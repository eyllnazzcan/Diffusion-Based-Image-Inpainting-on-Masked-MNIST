{
  "cells": [
    {
      "cell_type": "markdown",
      "source": [
        "Author: eyluelnaz.oezcan01@universitadipavia.it\n"
      ],
      "metadata": {
        "id": "RzZsX1N1mPQr"
      },
      "id": "RzZsX1N1mPQr"
    },
    {
      "cell_type": "markdown",
      "source": [
        "Inspired by this [notebook](https://colab.research.google.com/drive/1KE2UTdlZIsgGDz7bNN5qOPK1gu0jk25R?usp=sharing)"
      ],
      "metadata": {
        "id": "_8zVSQd7GiVR"
      },
      "id": "_8zVSQd7GiVR"
    },
    {
      "metadata": {
        "id": "19d944d1b845b3d4"
      },
      "cell_type": "markdown",
      "source": [
        "This notebook implements a Denoising Diffusion Probabilistic Model (DDPM) to perform image inpainting on the MNIST dataset, focusing on scenarios where parts of the image are missing (masked). It includes temporal conditioning, U-Net architecture with attention, and sinusoidal timestep embeddings."
      ],
      "id": "19d944d1b845b3d4"
    },
    {
      "cell_type": "markdown",
      "source": [
        "##Imports"
      ],
      "metadata": {
        "id": "_xBUfA0tWOGG"
      },
      "id": "_xBUfA0tWOGG"
    },
    {
      "cell_type": "code",
      "id": "initial_id",
      "metadata": {
        "collapsed": true,
        "ExecuteTime": {
          "end_time": "2025-07-27T09:00:08.920452Z",
          "start_time": "2025-07-27T09:00:08.912950Z"
        },
        "id": "initial_id"
      },
      "source": [
        "import torch\n",
        "import torch.nn as nn\n",
        "import torch.nn.functional as F\n",
        "import torchvision\n",
        "import torchvision.transforms as transforms\n",
        "from torch.utils.data import DataLoader, Dataset\n",
        "import matplotlib.pyplot as plt\n",
        "import numpy as np\n",
        "from tqdm import tqdm"
      ],
      "outputs": [],
      "execution_count": null
    },
    {
      "cell_type": "markdown",
      "source": [
        "##Dataset and Masking Strategy"
      ],
      "metadata": {
        "id": "3q0j98o0WQjt"
      },
      "id": "3q0j98o0WQjt"
    },
    {
      "cell_type": "markdown",
      "source": [
        "I used the MNIST dataset as a simple and interpretable benchmark for evaluating inpainting performance. The dataset is wrapped in a custom MaskedMNIST class that applies masking. Two masking strategies are implemented:\n",
        "\n",
        "1.   half-image masking, where either the left or right half of the image is zeroed out,\n",
        "2.   bounding-box masking, where a central region encompassing the digit is masked using a dynamically computed bounding box.\n",
        "\n",
        "These masking functions simulate different degrees of structural damage and provide a way to assess the model’s ability to infer semantics from partial context."
      ],
      "metadata": {
        "id": "QtjdGvJVWUVi"
      },
      "id": "QtjdGvJVWUVi"
    },
    {
      "metadata": {
        "ExecuteTime": {
          "end_time": "2025-07-27T09:00:10.022296Z",
          "start_time": "2025-07-27T09:00:10.015682Z"
        },
        "id": "f72a7cc34559458f"
      },
      "cell_type": "code",
      "source": [
        "class MaskedMNIST(Dataset):\n",
        "    def __init__(self, train=True, mask_fn=None):\n",
        "        transform = transforms.Compose([\n",
        "            transforms.ToTensor(), # [0,1]\n",
        "            transforms.Normalize((0.5,), (0.5,)) # avg=0, std=1\n",
        "        ])\n",
        "        self.data = torchvision.datasets.MNIST(root='./data', train=train, download=True, transform=transform)\n",
        "\n",
        "        self.mask_fn = mask_fn if mask_fn is not None else self.mask_center\n",
        "\n",
        "    def mask_center(self, img, size=10): # applies masking to the central region of the image (10×10)\n",
        "        img = img.clone() # copy of the org image\n",
        "        _, H, W = img.shape\n",
        "        start = (H - size) // 2\n",
        "        img[:, start:start + size, start:start + size] = 0\n",
        "        return img\n",
        "\n",
        "    def __getitem__(self, idx):\n",
        "        img, _ = self.data[idx]\n",
        "        mask = self.mask_fn(img)\n",
        "        masked = img * mask\n",
        "        return masked, img, mask\n",
        "\n",
        "    def __len__(self):\n",
        "        return len(self.data)"
      ],
      "id": "f72a7cc34559458f",
      "outputs": [],
      "execution_count": null
    },
    {
      "cell_type": "markdown",
      "source": [
        "### Half-Image Masking"
      ],
      "metadata": {
        "id": "ncWgqYnLI7GG"
      },
      "id": "ncWgqYnLI7GG"
    },
    {
      "metadata": {
        "ExecuteTime": {
          "end_time": "2025-07-27T09:00:19.830901Z",
          "start_time": "2025-07-27T09:00:19.827648Z"
        },
        "id": "10210cbdac5b20de"
      },
      "cell_type": "code",
      "source": [
        "def mask_half_image(img, side='left'):\n",
        "    _, H, W = img.shape\n",
        "    mask = torch.ones_like(img)\n",
        "\n",
        "    if side == 'left':\n",
        "        mask[:, :, :W // 2] = 0\n",
        "    elif side == 'right':\n",
        "        mask[:, :, W // 2:] = 0\n",
        "    else:\n",
        "        raise ValueError(\"side must be 'left' or 'right'\")\n",
        "    return mask"
      ],
      "id": "10210cbdac5b20de",
      "outputs": [],
      "execution_count": null
    },
    {
      "cell_type": "markdown",
      "source": [
        "### Bounding-Box Masking"
      ],
      "metadata": {
        "id": "UveOyFpmIcBn"
      },
      "id": "UveOyFpmIcBn"
    },
    {
      "metadata": {
        "ExecuteTime": {
          "end_time": "2025-07-27T09:00:18.118904Z",
          "start_time": "2025-07-27T09:00:18.115103Z"
        },
        "id": "2e9eae09d00d9b73"
      },
      "cell_type": "code",
      "source": [
        "def get_bbox_mask(img, block_size=8):\n",
        "    # img: [1, H, W]\n",
        "    binary = (img > 0.1).float()\n",
        "    coords = binary.nonzero(as_tuple=False)\n",
        "\n",
        "    if coords.numel() == 0:\n",
        "        return torch.ones_like(img)  # fallback if all zeros\n",
        "\n",
        "    _, y_min, x_min = coords.min(dim=0)[0]\n",
        "    _, y_max, x_max = coords.max(dim=0)[0]\n",
        "\n",
        "    center_y = (y_min + y_max) // 2\n",
        "    center_x = (x_min + x_max) // 2\n",
        "\n",
        "    top = max(center_y - block_size // 2, 0)\n",
        "    left = max(center_x - block_size // 2, 0)\n",
        "\n",
        "    mask = torch.ones_like(img)\n",
        "    mask[:, top:top+block_size, left:left+block_size] = 0\n",
        "    return mask"
      ],
      "id": "2e9eae09d00d9b73",
      "outputs": [],
      "execution_count": null
    },
    {
      "cell_type": "markdown",
      "source": [
        "##Sinusoidal Positional Embeddings"
      ],
      "metadata": {
        "id": "zcjUrB7YXYmx"
      },
      "id": "zcjUrB7YXYmx"
    },
    {
      "cell_type": "markdown",
      "source": [
        "To ensure the model is aware of the current timestep 𝑡 in the denoising process, I encode it using sinusoidal positional embeddings, as introduced in the paper \"[Attention Is All You Need](https://arxiv.org/abs/1706.03762)\" by Vaswani et al. (2017). These embeddings are deterministic and enable the model to generalize to arbitrary timesteps during training and inference.\n",
        "\n",
        "The sinusoidal embeddings are defined as:\n",
        "$$\n",
        "\\text{PE}_{(pos, 2i)} = \\sin\\left(\\frac{pos}{10000^{\\frac{2i}{d_{\\text{model}}}}}\\right), \\quad\n",
        "\\text{PE}_{(pos, 2i+1)} = \\cos\\left(\\frac{pos}{10000^{\\frac{2i}{d_{\\text{model}}}}}\\right)\n",
        "$$\n",
        "\n",
        "Specifically, a time embedding vector is generated for each 𝑡, projected through a multi-layer perceptron, and added to the latent representation in the U-Net bottleneck. This conditioning enables the model to adapt its behavior across different noise levels and improves convergence by providing explicit temporal context."
      ],
      "metadata": {
        "id": "l8IdCw2UZWUp"
      },
      "id": "l8IdCw2UZWUp"
    },
    {
      "metadata": {
        "ExecuteTime": {
          "end_time": "2025-07-27T09:00:11.467550Z",
          "start_time": "2025-07-27T09:00:11.463556Z"
        },
        "id": "78be5d2a56d3bf04"
      },
      "cell_type": "code",
      "source": [
        "class SinusoidalPositionEmbeddings(nn.Module):\n",
        "    def __init__(self, embedding_dim):\n",
        "        super().__init__()\n",
        "        self.embedding_dim = embedding_dim\n",
        "\n",
        "    def forward(self, timesteps):\n",
        "        device = timesteps.device\n",
        "        half_dim = self.embedding_dim // 2\n",
        "        emb = torch.exp(torch.arange(half_dim, device=device) * -(np.log(10000.0) / (half_dim - 1)))\n",
        "        emb = timesteps[:, None] * emb[None, :]\n",
        "        # [B, 1], [1, half_dim]\n",
        "        return torch.cat([torch.sin(emb), torch.cos(emb)], dim=-1) # [B, embedding_dim]"
      ],
      "id": "78be5d2a56d3bf04",
      "outputs": [],
      "execution_count": null
    },
    {
      "cell_type": "markdown",
      "source": [
        "##U-Net Architecture with Self-Attention"
      ],
      "metadata": {
        "id": "47co2bvtW5MZ"
      },
      "id": "47co2bvtW5MZ"
    },
    {
      "cell_type": "markdown",
      "source": [
        "The backbone of the model is a U-Net architecture. U-Net comprises an encoder-decoder structure with skip connections that preserve spatial information lost during downsampling.\n",
        "\n",
        "In my design, the U-Net is enhanced with self-attention layers in the bottleneck, enabling the model to capture long-range dependencies even in small 28×28 images. This is particularly useful in inpainting, where the missing region may depend on distant parts of the image. Self-attention is implemented via query-key-value projections followed by scaled dot-product attention, allowing global interactions across the entire image space."
      ],
      "metadata": {
        "id": "GOJRV-qlal6s"
      },
      "id": "GOJRV-qlal6s"
    },
    {
      "metadata": {
        "ExecuteTime": {
          "end_time": "2025-07-27T09:00:13.072758Z",
          "start_time": "2025-07-27T09:00:13.060738Z"
        },
        "id": "44d176022366fbd9"
      },
      "cell_type": "code",
      "source": [
        "class SelfAttention(nn.Module):\n",
        "    def __init__(self, in_channels):\n",
        "        super().__init__()\n",
        "        self.qkv = nn.Conv2d(in_channels, in_channels * 3, kernel_size=1)\n",
        "        self.out_proj = nn.Conv2d(in_channels, in_channels, kernel_size=1)\n",
        "\n",
        "    def forward(self, x):\n",
        "        B, C, H, W = x.shape\n",
        "        qkv = self.qkv(x) # [B, 3*C, H, W]\n",
        "        q, k, v = torch.chunk(qkv, 3, dim=1)\n",
        "\n",
        "        q = q.reshape(B, C, H * W).permute(0, 2, 1)  # (B, HW, C)\n",
        "        k = k.reshape(B, C, H * W)                  # (B, C, HW)\n",
        "        v = v.reshape(B, C, H * W).permute(0, 2, 1)  # (B, HW, C)\n",
        "\n",
        "        attn = torch.softmax(torch.bmm(q, k) / np.sqrt(C), dim=-1)  # (B, HW, HW)\n",
        "        out = torch.bmm(attn, v).permute(0, 2, 1).reshape(B, C, H, W)\n",
        "\n",
        "        return self.out_proj(out + x)  # residual connection"
      ],
      "id": "44d176022366fbd9",
      "outputs": [],
      "execution_count": null
    },
    {
      "metadata": {
        "ExecuteTime": {
          "end_time": "2025-07-27T09:00:14.520808Z",
          "start_time": "2025-07-27T09:00:14.510574Z"
        },
        "id": "9c1bffa2e0cb89c8"
      },
      "cell_type": "code",
      "source": [
        "class UNetWithTime(nn.Module):\n",
        "    def __init__(self):\n",
        "        super(UNetWithTime, self).__init__()\n",
        "        self.in_conv = nn.Conv2d(1, 64, kernel_size=3, padding=1)\n",
        "        self.enc1 = nn.Conv2d(64, 128, kernel_size=3, stride=2, padding=1)\n",
        "        self.enc2 = nn.Conv2d(128, 256, kernel_size=3, stride=2, padding=1)\n",
        "\n",
        "        self.middle = nn.Conv2d(256, 256, kernel_size=3, padding=1)\n",
        "        self.attn = SelfAttention(256)\n",
        "\n",
        "        self.time_mlp = SinusoidalPositionEmbeddings(64)\n",
        "        self.time_embed = nn.Sequential(\n",
        "            nn.Linear(64, 256),\n",
        "            nn.ReLU(),\n",
        "            nn.Linear(256, 256)\n",
        "        )\n",
        "\n",
        "        self.dec1 = nn.ConvTranspose2d(256, 128, kernel_size=4, stride=2, padding=1)\n",
        "        self.dec2 = nn.ConvTranspose2d(256, 64, kernel_size=4, stride=2, padding=1)\n",
        "        self.out = nn.Conv2d(128, 1, kernel_size=3, padding=1)\n",
        "\n",
        "    def forward(self, x, t):\n",
        "        x1 = F.relu(self.in_conv(x))\n",
        "        x2 = F.relu(self.enc1(x1))\n",
        "        x3 = F.relu(self.enc2(x2))\n",
        "\n",
        "        t_emb = self.time_mlp(t) # [B] -> [B, 64]\n",
        "        t_emb = self.time_embed(t_emb)[:, :, None, None] # [B, 256, 1, 1]\n",
        "\n",
        "        x3 = F.relu(self.middle(x3) + t_emb)\n",
        "        x3 = self.attn(x3)\n",
        "\n",
        "        d1 = F.relu(self.dec1(x3))\n",
        "        d1 = torch.cat([d1, x2], dim=1)  # skip connection -> [B, 256, 14, 14]\n",
        "        d2 = F.relu(self.dec2(d1))\n",
        "        d2 = torch.cat([d2, x1], dim=1) # skip connection -> [B, 128, 28, 28]\n",
        "\n",
        "        out = torch.tanh(self.out(d2)) # tanh to normalize predictions to [-1, 1]\n",
        "        # [B, 1, 28, 28]\n",
        "        return out"
      ],
      "id": "9c1bffa2e0cb89c8",
      "outputs": [],
      "execution_count": null
    },
    {
      "cell_type": "markdown",
      "source": [
        "##Diffusion Scheduler"
      ],
      "metadata": {
        "id": "awHrNJ7yXc56"
      },
      "id": "awHrNJ7yXc56"
    },
    {
      "cell_type": "markdown",
      "source": [
        "The core of the DDPM framework involves two processes: the forward (diffusion) process and the reverse (denoising) process. In the forward process, Gaussian noise is incrementally added to the data over a fixed number of timesteps, turning a clean image into nearly pure noise. The reverse process, learned by the model, attempts to invert this procedure by predicting the clean image given a noisy one.\n",
        "\n",
        "In my implementation, the noise schedule is governed by a cosine-based beta schedule, inspired by Nichol & Dhariwal (2021), from the [\"Improved Denoising Diffusion Probabilistic Models\"](https://arxiv.org/abs/2102.09672). This schedule is advantageous over linear beta schedules because it preserves more signal in the early steps and results in more stable training. Mathematically, we compute cumulative products of alphas, 𝛼, and use them to parameterize the noisy image at timestep t as:\n",
        "\n",
        "$$\n",
        "\\bar{\\alpha}_t = \\frac{f(t)}{f(0)}, \\quad \\text{where} \\quad f(t) = \\cos\\left( \\frac{t/T + s}{1 + s} \\cdot \\frac{\\pi}{2} \\right)^2\n",
        "$$\n",
        "\n",
        "This formulation allows the model to learn denoising mappings by minimizing the expected reconstruction loss over masked regions.\n",
        "\n"
      ],
      "metadata": {
        "id": "COo_pfKTa517"
      },
      "id": "COo_pfKTa517"
    },
    {
      "metadata": {
        "ExecuteTime": {
          "end_time": "2025-07-27T09:00:16.733807Z",
          "start_time": "2025-07-27T09:00:16.730311Z"
        },
        "id": "8700135e4b6dbccf"
      },
      "cell_type": "code",
      "source": [
        "class DiffusionScheduler:\n",
        "    def __init__(self, timesteps=200):\n",
        "        self.timesteps = timesteps\n",
        "        steps = torch.arange(timesteps + 1)\n",
        "        alphas_cumprod = torch.cos((steps / timesteps + 0.008) / 1.008 * torch.pi / 2) ** 2\n",
        "        alphas_cumprod = alphas_cumprod / alphas_cumprod[0]\n",
        "\n",
        "        self.alphas = alphas_cumprod[1:] / alphas_cumprod[:-1]\n",
        "        self.betas = 1 - self.alphas\n",
        "        self.alpha_hats = torch.cumprod(self.alphas, dim=0)\n",
        "\n",
        "    def get_params(self, t):\n",
        "        return self.betas[t], self.alphas[t], self.alpha_hats[t]"
      ],
      "id": "8700135e4b6dbccf",
      "outputs": [],
      "execution_count": null
    },
    {
      "cell_type": "markdown",
      "source": [
        "##Training Procedure"
      ],
      "metadata": {
        "id": "-KwV5wepXjjM"
      },
      "id": "-KwV5wepXjjM"
    },
    {
      "cell_type": "markdown",
      "source": [
        "The model is trained to condition on the visible pixels and only reconstruct the missing regions. This is achieved by creating a hybrid input at each timestep:\n",
        "\n",
        "$$\n",
        "\\quad \\tilde{x}_t = x_t \\cdot (1 - m) + x_{\\text{masked}} \\cdot m\n",
        "$$\n",
        "\n",
        "where\n",
        "m is the binary mask indicating observed pixels. The model then predicts\n",
        "𝑥0 and the loss is computed only over the unobserved region:\n",
        "\n",
        "$$\n",
        "{L}_{\\text{MSE}} = \\left\\| (\\hat{x}_0 - x_0) \\cdot (1 - m) \\right\\|^2\n",
        "$$\n",
        "\n",
        "This masked loss ensures that the model does not modify the known parts and focuses on plausible generation for the occluded area. The training process minimizes this loss over randomly sampled timesteps, allowing the model to learn to denoise under various noise conditions."
      ],
      "metadata": {
        "id": "aphOj_57g81n"
      },
      "id": "aphOj_57g81n"
    },
    {
      "metadata": {
        "ExecuteTime": {
          "end_time": "2025-07-27T09:00:21.605565Z",
          "start_time": "2025-07-27T09:00:21.594422Z"
        },
        "id": "4d09c8512d682dcd"
      },
      "cell_type": "code",
      "source": [
        "def train(model, dataloader, optimizer, scheduler, device, epochs=30):\n",
        "    model.train()\n",
        "    losses = []\n",
        "    for epoch in range(epochs):\n",
        "        pbar = tqdm(dataloader)\n",
        "        for masked, original, mask in pbar:\n",
        "            t = torch.randint(0, scheduler.timesteps, (masked.size(0),), device=device).long()\n",
        "            noise = torch.randn_like(original)\n",
        "\n",
        "            alpha_hat = scheduler.alpha_hats[t].view(-1, 1, 1, 1)\n",
        "            x_noisy = torch.sqrt(alpha_hat) * original + torch.sqrt(1 - alpha_hat) * noise\n",
        "            noisy_input = x_noisy * (1 - mask) + masked * mask\n",
        "\n",
        "            pred_img = model(noisy_input, t)\n",
        "            loss = F.mse_loss(pred_img * (1 - mask), original * (1 - mask))\n",
        "\n",
        "            optimizer.zero_grad()\n",
        "            loss.backward()\n",
        "            optimizer.step()\n",
        "\n",
        "            losses.append(loss.item())\n",
        "\n",
        "            pbar.set_description(f\"Epoch {epoch+1}, Loss: {loss.item():.4f}\")\n",
        "\n",
        "    return losses\n"
      ],
      "id": "4d09c8512d682dcd",
      "outputs": [],
      "execution_count": null
    },
    {
      "cell_type": "markdown",
      "source": [
        "##Sampling / Inpainting Procedure"
      ],
      "metadata": {
        "id": "isOxso1YXq1N"
      },
      "id": "isOxso1YXq1N"
    },
    {
      "cell_type": "markdown",
      "source": [
        "After training, image reconstruction (inpainting) is performed using the reverse diffusion process. Starting from pure Gaussian noise, the model iteratively predicts cleaner versions of the image. At each timestep, the model receives a hybrid input that preserves the known pixels and updates the missing regions.\n",
        "\n",
        "The denoised estimate\n",
        "$\\hat{x}_0$ is used to compute the next noisy image as:\n",
        "$$\n",
        "x_{t-1} = \\sqrt{\\bar{\\alpha}_t} \\cdot \\hat{x}_0 + \\sqrt{1 - \\bar{\\alpha}_t} \\cdot z\n",
        "$$\n",
        "\n",
        "where $𝑧∼𝑁 (0,𝐼)$ if $𝑡>0$, and $𝑧=0$ otherwise.\n",
        "\n",
        "After each step, the known pixels from the masked input are re-inserted to ensure conditioning is preserved throughout the process.\n",
        "\n",
        "\n",
        "\n"
      ],
      "metadata": {
        "id": "a35LdJGefGbR"
      },
      "id": "a35LdJGefGbR"
    },
    {
      "metadata": {
        "ExecuteTime": {
          "end_time": "2025-07-27T09:00:23.204188Z",
          "start_time": "2025-07-27T09:00:23.199760Z"
        },
        "id": "ef2a41b558347808"
      },
      "cell_type": "code",
      "source": [
        "@torch.no_grad()\n",
        "def sample_inpainting(model, scheduler, masked_imgs, original_imgs, mask, device):\n",
        "    model.eval()\n",
        "    x = torch.randn_like(masked_imgs).to(device)\n",
        "\n",
        "    for t in reversed(range(scheduler.timesteps)):\n",
        "        time = torch.full((masked_imgs.size(0),), t, device=device, dtype=torch.long)\n",
        "        x0_pred = model(x * (1 - mask) + masked_imgs * mask, time)\n",
        "\n",
        "        beta_t, _, alpha_hat_t = scheduler.get_params(t)\n",
        "        beta_t = beta_t.to(device).view(-1, 1, 1, 1)\n",
        "        alpha_hat_t = alpha_hat_t.to(device).view(-1, 1, 1, 1)\n",
        "\n",
        "\n",
        "        if t > 0:\n",
        "            noise = torch.randn_like(x)\n",
        "        else:\n",
        "            noise = torch.zeros_like(x)\n",
        "\n",
        "        x = torch.sqrt(alpha_hat_t) * x0_pred + torch.sqrt(1 - alpha_hat_t) * noise\n",
        "        x = x * (1 - mask) + masked_imgs * mask\n",
        "\n",
        "    return x"
      ],
      "id": "ef2a41b558347808",
      "outputs": [],
      "execution_count": null
    },
    {
      "cell_type": "markdown",
      "source": [
        "##Visualization Functions"
      ],
      "metadata": {
        "id": "2JaZBC6FXvDi"
      },
      "id": "2JaZBC6FXvDi"
    },
    {
      "metadata": {
        "ExecuteTime": {
          "end_time": "2025-07-27T09:00:24.769250Z",
          "start_time": "2025-07-27T09:00:24.759098Z"
        },
        "id": "d54e27c887dd9108"
      },
      "cell_type": "code",
      "source": [
        "def show_images(masked, original, reconstructed):\n",
        "    masked = torch.clamp(masked * 0.5 + 0.5, 0, 1)\n",
        "    original = torch.clamp(original * 0.5 + 0.5, 0, 1)\n",
        "    reconstructed = torch.clamp(reconstructed * 0.5 + 0.5, 0, 1)\n",
        "    fig, axs = plt.subplots(3, masked.size(0), figsize=(masked.size(0)*2, 6))\n",
        "    for i in range(masked.size(0)):\n",
        "        axs[0, i].imshow(masked[i].squeeze().cpu(), cmap='gray')\n",
        "        axs[1, i].imshow(original[i].squeeze().cpu(), cmap='gray')\n",
        "        axs[2, i].imshow(reconstructed[i].squeeze().cpu(), cmap='gray')\n",
        "        axs[0, i].set_title(\"Masked\")\n",
        "        axs[1, i].set_title(\"Original\")\n",
        "        axs[2, i].set_title(\"Inpainted\")\n",
        "        for ax in axs[:, i]:\n",
        "            ax.axis(\"off\")\n",
        "    plt.tight_layout()\n",
        "    plt.show()"
      ],
      "id": "d54e27c887dd9108",
      "outputs": [],
      "execution_count": null
    },
    {
      "metadata": {
        "ExecuteTime": {
          "end_time": "2025-07-27T09:00:26.532426Z",
          "start_time": "2025-07-27T09:00:26.528620Z"
        },
        "id": "b39dedf18955361b"
      },
      "cell_type": "code",
      "source": [
        "def plot_loss(losses):\n",
        "    import matplotlib.pyplot as plt\n",
        "    plt.plot(losses)\n",
        "    plt.xlabel(\"Epoch\")\n",
        "    plt.ylabel(\"Loss\")\n",
        "    plt.title(\"Training Loss\")\n",
        "    plt.grid(True)\n",
        "    plt.show()"
      ],
      "id": "b39dedf18955361b",
      "outputs": [],
      "execution_count": null
    },
    {
      "cell_type": "markdown",
      "source": [
        "##Training and Evaluation"
      ],
      "metadata": {
        "id": "Bg1Oe7ItX5JF"
      },
      "id": "Bg1Oe7ItX5JF"
    },
    {
      "cell_type": "markdown",
      "source": [
        "###Experiment 1"
      ],
      "metadata": {
        "id": "WVQILTs4Xy-C"
      },
      "id": "WVQILTs4Xy-C"
    },
    {
      "cell_type": "markdown",
      "source": [
        "Trained on left-half masked digits and evaluated using DDPM sampling conditioned on observed right-half."
      ],
      "metadata": {
        "id": "PW1OKQtZYdgu"
      },
      "id": "PW1OKQtZYdgu"
    },
    {
      "metadata": {
        "ExecuteTime": {
          "end_time": "2025-07-27T14:57:50.322555Z",
          "start_time": "2025-07-27T09:00:46.290681Z"
        },
        "id": "3261a84ad8c4fd85",
        "outputId": "019e68e9-c982-43aa-c85d-dc63c384f18b"
      },
      "cell_type": "code",
      "source": [
        "device = torch.device(\"cuda\" if torch.cuda.is_available() else \"cpu\")\n",
        "dataset = MaskedMNIST(train=True, mask_fn=lambda img: mask_half_image(img, side='left'))\n",
        "dataloader = DataLoader(dataset, batch_size=128, shuffle=True)\n",
        "\n",
        "model = UNetWithTime().to(device)\n",
        "optimizer = torch.optim.Adam(model.parameters(), lr=1e-4)\n",
        "scheduler = DiffusionScheduler(timesteps=200)\n",
        "\n",
        "losses = train(model, dataloader, optimizer, scheduler, device, epochs=30)\n",
        "plot_loss(losses)"
      ],
      "id": "3261a84ad8c4fd85",
      "outputs": [
        {
          "name": "stderr",
          "output_type": "stream",
          "text": [
            "Epoch 1, Loss: 0.0336: 100%|██████████| 469/469 [09:30<00:00,  1.22s/it]\n",
            "Epoch 2, Loss: 0.0354: 100%|██████████| 469/469 [09:41<00:00,  1.24s/it]\n",
            "Epoch 3, Loss: 0.0270: 100%|██████████| 469/469 [09:43<00:00,  1.24s/it]\n",
            "Epoch 4, Loss: 0.0249: 100%|██████████| 469/469 [12:33<00:00,  1.61s/it]\n",
            "Epoch 5, Loss: 0.0311: 100%|██████████| 469/469 [12:30<00:00,  1.60s/it]\n",
            "Epoch 6, Loss: 0.0239: 100%|██████████| 469/469 [12:14<00:00,  1.57s/it]\n",
            "Epoch 7, Loss: 0.0265: 100%|██████████| 469/469 [12:12<00:00,  1.56s/it]\n",
            "Epoch 8, Loss: 0.0212: 100%|██████████| 469/469 [11:56<00:00,  1.53s/it]\n",
            "Epoch 9, Loss: 0.0219: 100%|██████████| 469/469 [11:25<00:00,  1.46s/it]\n",
            "Epoch 10, Loss: 0.0180: 100%|██████████| 469/469 [11:55<00:00,  1.53s/it]\n",
            "Epoch 11, Loss: 0.0232: 100%|██████████| 469/469 [11:49<00:00,  1.51s/it]\n",
            "Epoch 12, Loss: 0.0181: 100%|██████████| 469/469 [11:47<00:00,  1.51s/it]\n",
            "Epoch 13, Loss: 0.0181: 100%|██████████| 469/469 [11:47<00:00,  1.51s/it]\n",
            "Epoch 14, Loss: 0.0176: 100%|██████████| 469/469 [11:57<00:00,  1.53s/it]\n",
            "Epoch 15, Loss: 0.0227: 100%|██████████| 469/469 [11:34<00:00,  1.48s/it]\n",
            "Epoch 16, Loss: 0.0158: 100%|██████████| 469/469 [12:03<00:00,  1.54s/it]\n",
            "Epoch 17, Loss: 0.0167: 100%|██████████| 469/469 [11:59<00:00,  1.53s/it]\n",
            "Epoch 18, Loss: 0.0190: 100%|██████████| 469/469 [12:16<00:00,  1.57s/it]\n",
            "Epoch 19, Loss: 0.0191: 100%|██████████| 469/469 [12:05<00:00,  1.55s/it]\n",
            "Epoch 20, Loss: 0.0175: 100%|██████████| 469/469 [12:47<00:00,  1.64s/it]\n",
            "Epoch 21, Loss: 0.0210: 100%|██████████| 469/469 [12:26<00:00,  1.59s/it]\n",
            "Epoch 22, Loss: 0.0159: 100%|██████████| 469/469 [12:25<00:00,  1.59s/it]\n",
            "Epoch 23, Loss: 0.0152: 100%|██████████| 469/469 [12:25<00:00,  1.59s/it]\n",
            "Epoch 24, Loss: 0.0190: 100%|██████████| 469/469 [11:52<00:00,  1.52s/it]\n",
            "Epoch 25, Loss: 0.0192: 100%|██████████| 469/469 [11:59<00:00,  1.53s/it]\n",
            "Epoch 26, Loss: 0.0197: 100%|██████████| 469/469 [12:29<00:00,  1.60s/it]\n",
            "Epoch 27, Loss: 0.0159: 100%|██████████| 469/469 [12:18<00:00,  1.58s/it]\n",
            "Epoch 28, Loss: 0.0194: 100%|██████████| 469/469 [12:34<00:00,  1.61s/it]\n",
            "Epoch 29, Loss: 0.0212: 100%|██████████| 469/469 [12:37<00:00,  1.62s/it]\n",
            "Epoch 30, Loss: 0.0178: 100%|██████████| 469/469 [11:57<00:00,  1.53s/it]\n"
          ]
        },
        {
          "data": {
            "text/plain": [
              "<Figure size 640x480 with 1 Axes>"
            ],
            "image/png": "[encoded data removed]"
          },
          "metadata": {},
          "output_type": "display_data"
        }
      ],
      "execution_count": null
    },
    {
      "metadata": {
        "ExecuteTime": {
          "end_time": "2025-07-27T15:00:13.546008Z",
          "start_time": "2025-07-27T15:00:08.234647Z"
        },
        "id": "927a7556899d813",
        "outputId": "3a7a1544-d6d2-4cd3-e024-d67d568d5714"
      },
      "cell_type": "code",
      "source": [
        "testset = MaskedMNIST(train=False, mask_fn=lambda img: mask_half_image(img, side='left'))\n",
        "testloader = DataLoader(testset, batch_size=10, shuffle=True)\n",
        "\n",
        "masked, original, mask = next(iter(testloader))\n",
        "masked, original, mask = masked.to(device), original.to(device), mask.to(device)\n",
        "reconstructed = sample_inpainting(model, scheduler, masked, original, mask, device)\n",
        "\n",
        "show_images(masked, original, reconstructed)"
      ],
      "id": "927a7556899d813",
      "outputs": [
        {
          "data": {
            "text/plain": [
              "<Figure size 2000x600 with 30 Axes>"
            ],
            "image/png": "[encoded data removed]"
          },
          "metadata": {},
          "output_type": "display_data"
        }
      ],
      "execution_count": null
    },
    {
      "cell_type": "markdown",
      "source": [
        "###Experiment 2"
      ],
      "metadata": {
        "id": "8Pv06ep6YEv7"
      },
      "id": "8Pv06ep6YEv7"
    },
    {
      "cell_type": "markdown",
      "source": [
        "Trained with digit-centered bbox masking for more localized inpainting.\n",
        "\n",
        "\n",
        "\n"
      ],
      "metadata": {
        "id": "x9rja0JuYWfl"
      },
      "id": "x9rja0JuYWfl"
    },
    {
      "metadata": {
        "ExecuteTime": {
          "end_time": "2025-07-27T18:26:47.883052Z",
          "start_time": "2025-07-27T15:01:49.626342Z"
        },
        "id": "d452c4eff354f2db",
        "outputId": "60ce289b-ced3-4b3c-af39-fc7171218002"
      },
      "cell_type": "code",
      "source": [
        "device = torch.device(\"cuda\" if torch.cuda.is_available() else \"cpu\")\n",
        "dataset = MaskedMNIST(train=True, mask_fn=get_bbox_mask)\n",
        "dataloader = DataLoader(dataset, batch_size=128, shuffle=True)\n",
        "\n",
        "model = UNetWithTime().to(device)\n",
        "optimizer = torch.optim.Adam(model.parameters(), lr=1e-4)\n",
        "scheduler = DiffusionScheduler(timesteps=200)\n",
        "\n",
        "losses = train(model, dataloader, optimizer, scheduler, device, epochs=20)\n",
        "plot_loss(losses)"
      ],
      "id": "d452c4eff354f2db",
      "outputs": [
        {
          "name": "stderr",
          "output_type": "stream",
          "text": [
            "Epoch 1, Loss: 0.0098: 100%|██████████| 469/469 [09:11<00:00,  1.18s/it]\n",
            "Epoch 2, Loss: 0.0105: 100%|██████████| 469/469 [09:16<00:00,  1.19s/it]\n",
            "Epoch 3, Loss: 0.0079: 100%|██████████| 469/469 [09:24<00:00,  1.20s/it]\n",
            "Epoch 4, Loss: 0.0078: 100%|██████████| 469/469 [09:33<00:00,  1.22s/it]\n",
            "Epoch 5, Loss: 0.0078: 100%|██████████| 469/469 [09:42<00:00,  1.24s/it]\n",
            "Epoch 6, Loss: 0.0079: 100%|██████████| 469/469 [09:41<00:00,  1.24s/it]\n",
            "Epoch 7, Loss: 0.0097: 100%|██████████| 469/469 [09:41<00:00,  1.24s/it]\n",
            "Epoch 8, Loss: 0.0074: 100%|██████████| 469/469 [10:27<00:00,  1.34s/it]\n",
            "Epoch 9, Loss: 0.0082: 100%|██████████| 469/469 [10:52<00:00,  1.39s/it]\n",
            "Epoch 10, Loss: 0.0065: 100%|██████████| 469/469 [09:59<00:00,  1.28s/it]\n",
            "Epoch 11, Loss: 0.0060: 100%|██████████| 469/469 [10:11<00:00,  1.30s/it]\n",
            "Epoch 12, Loss: 0.0069: 100%|██████████| 469/469 [10:04<00:00,  1.29s/it]\n",
            "Epoch 13, Loss: 0.0088: 100%|██████████| 469/469 [10:42<00:00,  1.37s/it]\n",
            "Epoch 14, Loss: 0.0061: 100%|██████████| 469/469 [11:04<00:00,  1.42s/it]\n",
            "Epoch 15, Loss: 0.0069: 100%|██████████| 469/469 [11:16<00:00,  1.44s/it]\n",
            "Epoch 16, Loss: 0.0072: 100%|██████████| 469/469 [11:21<00:00,  1.45s/it]\n",
            "Epoch 17, Loss: 0.0066: 100%|██████████| 469/469 [10:57<00:00,  1.40s/it]\n",
            "Epoch 18, Loss: 0.0069: 100%|██████████| 469/469 [10:07<00:00,  1.30s/it]\n",
            "Epoch 19, Loss: 0.0071: 100%|██████████| 469/469 [10:36<00:00,  1.36s/it]\n",
            "Epoch 20, Loss: 0.0065: 100%|██████████| 469/469 [10:45<00:00,  1.38s/it]\n"
          ]
        },
        {
          "data": {
            "text/plain": [
              "<Figure size 640x480 with 1 Axes>"
            ],
            "image/png": "[encoded data removed]"
          },
          "metadata": {},
          "output_type": "display_data"
        }
      ],
      "execution_count": null
    },
    {
      "metadata": {
        "ExecuteTime": {
          "end_time": "2025-07-27T18:30:45.399497Z",
          "start_time": "2025-07-27T18:30:39.710467Z"
        },
        "id": "6ce45f28d24dba63",
        "outputId": "8e926565-545d-4957-d19a-e49bfbb469ab"
      },
      "cell_type": "code",
      "source": [
        "testset = MaskedMNIST(train=False, mask_fn=get_bbox_mask)\n",
        "testloader = DataLoader(testset, batch_size=10, shuffle=True)\n",
        "\n",
        "masked, original, mask = next(iter(testloader))\n",
        "masked, original, mask = masked.to(device), original.to(device), mask.to(device)\n",
        "reconstructed = sample_inpainting(model, scheduler, masked, original, mask, device)\n",
        "\n",
        "show_images(masked, original, reconstructed)"
      ],
      "id": "6ce45f28d24dba63",
      "outputs": [
        {
          "data": {
            "text/plain": [
              "<Figure size 2000x600 with 30 Axes>"
            ],
            "image/png": "[encoded data removed]"
          },
          "metadata": {},
          "output_type": "display_data"
        }
      ],
      "execution_count": null
    }
  ],
  "metadata": {
    "kernelspec": {
      "display_name": "Python 3",
      "language": "python",
      "name": "python3"
    },
    "language_info": {
      "codemirror_mode": {
        "name": "ipython",
        "version": 2
      },
      "file_extension": ".py",
      "mimetype": "text/x-python",
      "name": "python",
      "nbconvert_exporter": "python",
      "pygments_lexer": "ipython2",
      "version": "2.7.6"
    },
    "colab": {
      "provenance": [],
      "toc_visible": true
    }
  },
  "nbformat": 4,
  "nbformat_minor": 5
}